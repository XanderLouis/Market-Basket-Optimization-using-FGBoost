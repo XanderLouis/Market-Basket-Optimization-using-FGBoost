{
 "cells": [
  {
   "cell_type": "markdown",
   "id": "26b936dd",
   "metadata": {},
   "source": [
    "# Introduction and Objective\n",
    "\n",
    "#### Objective:\n",
    "We've been hired to boost sales and optimize the marketing strategies of this food store using a technique called market basket optimization. The goal is to identify patterns in customer purchases to create effective product bundles and offers that will encourage customers to buy more.\n",
    "\n",
    "#### Scenario:\n",
    "It is the south of France, locals frequently visit their favorite shops. The business owner wants you to herlp leverage the purchasing habits of your customers to offer compelling deals. By understanding the associations between different products, create offers like \"buy this, get that\" to increase sales and customer satisfaction."
   ]
  },
  {
   "cell_type": "markdown",
   "id": "f0a6ad7a",
   "metadata": {},
   "source": [
    "#### Dataset:\n",
    "We analyzed transaction data from 7,501 shopping baskets. Each row represents a transaction, and each column lists the items purchased in that transaction. Our goal is to uncover patterns in these transactions to identify the best product combinations to promote."
   ]
  },
  {
   "cell_type": "markdown",
   "id": "9da85a6b",
   "metadata": {},
   "source": [
    "#### Methodology\n",
    "Association Rule Learning:\n",
    "We'll use the FP-Growth algorithm, a popular method for finding associations between items in large datasets. It helps us identify combinations of products that frequently appear together and measure the strength of these associations using metrics like support, confidence, and lift."
   ]
  },
  {
   "cell_type": "code",
   "execution_count": 1,
   "id": "912dd057",
   "metadata": {},
   "outputs": [],
   "source": [
    "#### Installing the necessary packages"
   ]
  },
  {
   "cell_type": "code",
   "execution_count": 1,
   "id": "6932c425",
   "metadata": {},
   "outputs": [
    {
     "name": "stdout",
     "output_type": "stream",
     "text": [
      "Requirement already satisfied: mlxtend in c:\\users\\louis alex\\anaconda3\\lib\\site-packages (0.23.1)\n",
      "Requirement already satisfied: scikit-learn in c:\\users\\louis alex\\anaconda3\\lib\\site-packages (1.3.0)\n",
      "Requirement already satisfied: matplotlib in c:\\users\\louis alex\\anaconda3\\lib\\site-packages (3.7.2)\n",
      "Requirement already satisfied: seaborn in c:\\users\\louis alex\\anaconda3\\lib\\site-packages (0.12.2)\n",
      "Requirement already satisfied: scipy>=1.2.1 in c:\\users\\louis alex\\anaconda3\\lib\\site-packages (from mlxtend) (1.11.1)\n",
      "Requirement already satisfied: numpy>=1.16.2 in c:\\users\\louis alex\\anaconda3\\lib\\site-packages (from mlxtend) (1.24.3)\n",
      "Requirement already satisfied: pandas>=0.24.2 in c:\\users\\louis alex\\anaconda3\\lib\\site-packages (from mlxtend) (2.0.3)\n",
      "Requirement already satisfied: joblib>=0.13.2 in c:\\users\\louis alex\\anaconda3\\lib\\site-packages (from mlxtend) (1.1.1)\n",
      "Requirement already satisfied: threadpoolctl>=2.0.0 in c:\\users\\louis alex\\anaconda3\\lib\\site-packages (from scikit-learn) (2.2.0)\n",
      "Requirement already satisfied: contourpy>=1.0.1 in c:\\users\\louis alex\\anaconda3\\lib\\site-packages (from matplotlib) (1.0.5)\n",
      "Requirement already satisfied: cycler>=0.10 in c:\\users\\louis alex\\anaconda3\\lib\\site-packages (from matplotlib) (0.11.0)\n",
      "Requirement already satisfied: fonttools>=4.22.0 in c:\\users\\louis alex\\anaconda3\\lib\\site-packages (from matplotlib) (4.25.0)\n",
      "Requirement already satisfied: kiwisolver>=1.0.1 in c:\\users\\louis alex\\anaconda3\\lib\\site-packages (from matplotlib) (1.4.4)\n",
      "Requirement already satisfied: packaging>=20.0 in c:\\users\\louis alex\\anaconda3\\lib\\site-packages (from matplotlib) (23.1)\n",
      "Requirement already satisfied: pillow>=6.2.0 in c:\\users\\louis alex\\anaconda3\\lib\\site-packages (from matplotlib) (9.4.0)\n",
      "Requirement already satisfied: pyparsing<3.1,>=2.3.1 in c:\\users\\louis alex\\anaconda3\\lib\\site-packages (from matplotlib) (3.0.9)\n",
      "Requirement already satisfied: python-dateutil>=2.7 in c:\\users\\louis alex\\anaconda3\\lib\\site-packages (from matplotlib) (2.8.2)\n",
      "Requirement already satisfied: pytz>=2020.1 in c:\\users\\louis alex\\anaconda3\\lib\\site-packages (from pandas>=0.24.2->mlxtend) (2023.3.post1)\n",
      "Requirement already satisfied: tzdata>=2022.1 in c:\\users\\louis alex\\anaconda3\\lib\\site-packages (from pandas>=0.24.2->mlxtend) (2023.3)\n",
      "Requirement already satisfied: six>=1.5 in c:\\users\\louis alex\\anaconda3\\lib\\site-packages (from python-dateutil>=2.7->matplotlib) (1.16.0)\n"
     ]
    }
   ],
   "source": [
    "!pip install mlxtend scikit-learn matplotlib seaborn\n"
   ]
  },
  {
   "cell_type": "markdown",
   "id": "6118a8a3",
   "metadata": {},
   "source": [
    "#### import the necessary libraries"
   ]
  },
  {
   "cell_type": "code",
   "execution_count": 4,
   "id": "2a4fad60",
   "metadata": {},
   "outputs": [],
   "source": [
    "import pandas as pd\n",
    "from mlxtend.frequent_patterns import fpgrowth, association_rules\n"
   ]
  },
  {
   "cell_type": "markdown",
   "id": "2aa32af3",
   "metadata": {},
   "source": [
    "#### Load the dataset"
   ]
  },
  {
   "cell_type": "code",
   "execution_count": 5,
   "id": "03ffb3b4",
   "metadata": {},
   "outputs": [],
   "source": [
    "dataset = pd.read_csv(r'C:\\Users\\Louis Alex\\Desktop\\Data Science\\drive-download-20240221T093924Z-001\\Part 5 - Association Rule Learning\\Section 28 - Apriori\\Python\\Market_Basket_Optimisation.csv', header=None)\n"
   ]
  },
  {
   "cell_type": "markdown",
   "id": "6a239602",
   "metadata": {},
   "source": [
    "#### Preprocessing the data for FP-Growth"
   ]
  },
  {
   "cell_type": "code",
   "execution_count": 6,
   "id": "e3aeeece",
   "metadata": {},
   "outputs": [],
   "source": [
    "transactions = []\n",
    "for i in range(len(dataset)):\n",
    "    transactions.append([str(dataset.values[i, j]) for j in range(len(dataset.columns)) if str(dataset.values[i, j]) != 'nan'])\n"
   ]
  },
  {
   "cell_type": "markdown",
   "id": "a3e613ea",
   "metadata": {},
   "source": [
    "#### Converting transactions to one-hot encoded DataFrame"
   ]
  },
  {
   "cell_type": "code",
   "execution_count": null,
   "id": "20276a07",
   "metadata": {},
   "outputs": [],
   "source": [
    "from mlxtend.preprocessing import TransactionEncoder\n",
    "\n",
    "te = TransactionEncoder()\n",
    "te_ary = te.fit(transactions).transform(transactions)\n",
    "encoded_df = pd.DataFrame(te_ary, columns=te.columns_)\n"
   ]
  },
  {
   "cell_type": "markdown",
   "id": "995cdaf9",
   "metadata": {},
   "source": [
    "#### Run the FP-Growth algorithm"
   ]
  },
  {
   "cell_type": "code",
   "execution_count": null,
   "id": "10d95680",
   "metadata": {},
   "outputs": [],
   "source": [
    "frequent_itemsets = fpgrowth(encoded_df, min_support=0.002, use_colnames=True)\n",
    "rules = association_rules(frequent_itemsets, metric=\"lift\", min_threshold=1)\n"
   ]
  },
  {
   "cell_type": "markdown",
   "id": "3b808b71",
   "metadata": {},
   "source": [
    "#### Print the frequent itemsets and association rules"
   ]
  },
  {
   "cell_type": "code",
   "execution_count": null,
   "id": "7a8707c8",
   "metadata": {},
   "outputs": [],
   "source": [
    "print(\"Frequent Itemsets:\")\n",
    "print(frequent_itemsets.head(10))\n",
    "\n",
    "print(\"\\nAssociation Rules:\")\n",
    "print(rules.head(10))\n"
   ]
  },
  {
   "cell_type": "markdown",
   "id": "19759033",
   "metadata": {},
   "source": [
    "Frequent Itemsets:\n",
    "    support           itemsets\n",
    "0  0.238368    (mineral water)\n",
    "1  0.132116        (green tea)\n",
    "2  0.076523   (low fat yogurt)\n",
    "3  0.071457           (shrimp)\n",
    "4  0.065858        (olive oil)\n",
    "5  0.063325  (frozen smoothie)\n",
    "6  0.047460            (honey)\n",
    "7  0.042528           (salmon)\n",
    "8  0.033329          (avocado)\n",
    "9  0.031862   (cottage cheese)\n",
    "\n",
    "Association Rules:\n",
    "                  antecedents     consequents  antecedent support  \\\n",
    "0                 (green tea)     (spaghetti)            0.132116   \n",
    "1                 (spaghetti)     (green tea)            0.174110   \n",
    "2              (french fries)     (green tea)            0.170911   \n",
    "3                 (green tea)  (french fries)            0.132116   \n",
    "4                 (chocolate)     (green tea)            0.163845   \n",
    "5                 (green tea)     (chocolate)            0.132116   \n",
    "6                 (green tea)          (eggs)            0.132116   \n",
    "7                      (eggs)     (green tea)            0.179709   \n",
    "8  (mineral water, green tea)     (spaghetti)            0.031063   \n",
    "9  (mineral water, spaghetti)     (green tea)            0.059725   \n",
    "\n",
    "   consequent support   support  confidence      lift  leverage  conviction  \\\n",
    "0            0.174110  0.026530    0.200807  1.153335  0.003527    1.033405   \n",
    "1            0.132116  0.026530    0.152374  1.153335  0.003527    1.023900   \n",
    "2            0.132116  0.028530    0.166927  1.263488  0.005950    1.041786   \n",
    "3            0.170911  0.028530    0.215943  1.263488  0.005950    1.057436   \n",
    "4            0.132116  0.023464    0.143206  1.083943  0.001817    1.012944   \n",
    "5            0.163845  0.023464    0.177598  1.083943  0.001817    1.016724   \n",
    "6            0.179709  0.025463    0.192735  1.072479  0.001721    1.016135   \n",
    "7            0.132116  0.025463    0.141691  1.072479  0.001721    1.011156   \n",
    "8            0.174110  0.008266    0.266094  1.528311  0.002857    1.125335   \n",
    "9            0.132116  0.008266    0.138393  1.047512  0.000375    1.007285   \n",
    "\n",
    "   zhangs_metric  \n",
    "0       0.153188  \n",
    "1       0.160977  \n",
    "2       0.251529  \n",
    "3       0.240286  \n",
    "4       0.092617  \n",
    "5       0.089231  \n",
    "6       0.077869  \n",
    "7       0.082387  \n",
    "8       0.356765  \n",
    "9       0.048238  "
   ]
  },
  {
   "cell_type": "markdown",
   "id": "1a479d8b",
   "metadata": {},
   "source": [
    "#### Analysis frequent itemsets:\n",
    "\n",
    "- mineral water appears in 23.84% of transactions.\n",
    "- green tea appears in 13.21% of transactions.\n",
    "- low fat yogurt appears in 7.65% of transactions.\n",
    "- shrimp appears in 7.15% of transactions.\n",
    "- olive oil appears in 6.59% of transactions.\n",
    "- frozen smoothie appears in 6.33% of transactions.\n",
    "- honey appears in 4.75% of transactions.\n",
    "- salmon appears in 4.25% of transactions.\n",
    "- avocado appears in 3.33% of transactions.\n",
    "- cottage cheese appears in 3.19% of transactions.\n",
    "\n",
    "These itemsets show the individual items that are most frequently purchased."
   ]
  },
  {
   "cell_type": "markdown",
   "id": "49f3b249",
   "metadata": {},
   "source": [
    "#### Interpretation and Recommendations\n",
    "Key Findings:\n",
    "\n",
    "Green Tea:\n",
    "- Frequently appears with items like spaghetti and french fries.\n",
    "\n",
    "- Shows high confidence and lift values in association rules, indicating strong relationships with other products.\n",
    "\n",
    "\n",
    "Mineral Water:\n",
    "- The most frequently purchased item, appearing in 23.84% of transactions.\n",
    "\n",
    "- Likely a staple item for customers, making it a good candidate for promotions.\n",
    "\n",
    "\n",
    "#### Marketing Strategy:\n",
    "\n",
    "1. Green Tea and Mineral Water Promotions:\n",
    "- Given their high frequency of purchase, offering promotions like “Buy Green Tea, Get a Discount on Spaghetti” or “Buy Mineral Water, Get Green Tea Free” could attract customers to buy more.\n",
    "\n",
    "- These promotions can leverage the strong associations identified to drive additional sales and enhance customer satisfaction.\n",
    "\n",
    "2. Bundle Offers:\n",
    "- Create bundles that include green tea, mineral water, and other frequently purchased items like low-fat yogurt, shrimp, and olive oil.\n",
    "\n",
    "- These bundles can be marketed as value packs, appealing to health-conscious customers who regularly purchase these items.\n",
    "\n",
    "\n",
    "3. Targeted Offers:\n",
    "- Use the association rules to send personalized offers to customers based on their past purchase behavior.\n",
    "\n",
    "- For instance, customers who frequently buy french fries and green tea could receive special offers on these items or related products."
   ]
  },
  {
   "cell_type": "markdown",
   "id": "fc592329",
   "metadata": {},
   "source": [
    "#### Conclusion\n",
    "\n",
    "The analysis of frequent itemsets and association rules has provided valuable insights into customer purchasing patterns. By focusing on key items like green tea and mineral water, and leveraging their strong associations with other products effective marketing strategies can be created to boost sales and enhance customer satisfaction. \n",
    "\n",
    "The recommendations provided are practical and should help the business owner achieve their objective of increasing sales through optimized product bundling and promotional offers."
   ]
  }
 ],
 "metadata": {
  "kernelspec": {
   "display_name": "Python 3 (ipykernel)",
   "language": "python",
   "name": "python3"
  },
  "language_info": {
   "codemirror_mode": {
    "name": "ipython",
    "version": 3
   },
   "file_extension": ".py",
   "mimetype": "text/x-python",
   "name": "python",
   "nbconvert_exporter": "python",
   "pygments_lexer": "ipython3",
   "version": "3.11.5"
  }
 },
 "nbformat": 4,
 "nbformat_minor": 5
}
